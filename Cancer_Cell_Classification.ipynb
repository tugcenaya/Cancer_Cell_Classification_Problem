{
 "cells": [
  {
   "cell_type": "code",
   "execution_count": null,
   "id": "eec8a9c4",
   "metadata": {},
   "outputs": [],
   "source": [
    "import pandas as pd\n",
    "import numpy as np\n",
    "import seaborn as sns\n",
    "import warnings \n",
    "warnings.filterwarnings(action= 'ignore')"
   ]
  },
  {
   "cell_type": "code",
   "execution_count": null,
   "id": "ce2f61a1",
   "metadata": {},
   "outputs": [],
   "source": [
    "train_df = pd.read_csv(\"Dataset/cancer.csv\")\n",
    "train_df.head()"
   ]
  },
  {
   "cell_type": "code",
   "execution_count": null,
   "id": "da4faf6c",
   "metadata": {
    "scrolled": true
   },
   "outputs": [],
   "source": [
    "train_df.info()"
   ]
  },
  {
   "cell_type": "code",
   "execution_count": null,
   "id": "60ef53c8",
   "metadata": {},
   "outputs": [],
   "source": [
    "train_df.drop([\"Unnamed: 32\",\"id\"],axis=1,inplace=True)"
   ]
  },
  {
   "cell_type": "code",
   "execution_count": null,
   "id": "a217c76d",
   "metadata": {
    "scrolled": true
   },
   "outputs": [],
   "source": [
    "train_df.describe().T"
   ]
  },
  {
   "cell_type": "code",
   "execution_count": null,
   "id": "66a654de",
   "metadata": {
    "scrolled": false
   },
   "outputs": [],
   "source": [
    "train_df[\"diagnosis\"].value_counts()\n",
    "sns.countplot(data = train_df, x = 'diagnosis', palette = 'husl')"
   ]
  },
  {
   "cell_type": "code",
   "execution_count": null,
   "id": "1de9f9c8",
   "metadata": {},
   "outputs": [],
   "source": [
    "corr_data = train_df.corr()[train_df.corr()>0.8]"
   ]
  },
  {
   "cell_type": "code",
   "execution_count": null,
   "id": "a2636766",
   "metadata": {},
   "outputs": [],
   "source": [
    "sns.heatmap(corr_data)"
   ]
  },
  {
   "cell_type": "code",
   "execution_count": null,
   "id": "7b24a4ff",
   "metadata": {
    "scrolled": true
   },
   "outputs": [],
   "source": [
    "train_df.corr()[train_df.corr()<0.4]"
   ]
  },
  {
   "cell_type": "code",
   "execution_count": null,
   "id": "067d2de0",
   "metadata": {},
   "outputs": [],
   "source": [
    "train_df.drop([\"fractal_dimension_mean\",\"texture_se\",\"smoothness_se\",\"symmetry_se\"],axis=1,inplace=True)\n",
    "train_df.head()"
   ]
  },
  {
   "cell_type": "code",
   "execution_count": null,
   "id": "6708086a",
   "metadata": {
    "scrolled": true
   },
   "outputs": [],
   "source": [
    "train_df[\"diagnosis\"] = [0 if i==\"M\" else 1 for i in train_df[\"diagnosis\"]]"
   ]
  },
  {
   "cell_type": "code",
   "execution_count": null,
   "id": "98e1d73e",
   "metadata": {},
   "outputs": [],
   "source": [
    "train_df.drop([\"radius_worst\",\"perimeter_worst\",\"area_worst\",\"concave points_worst\"],axis=1,inplace=True)"
   ]
  },
  {
   "cell_type": "code",
   "execution_count": null,
   "id": "f8388cb6",
   "metadata": {
    "scrolled": true
   },
   "outputs": [],
   "source": [
    "train_df.head()"
   ]
  },
  {
   "cell_type": "code",
   "execution_count": null,
   "id": "871e2295",
   "metadata": {},
   "outputs": [],
   "source": [
    "for i in train_df.columns[1:]:\n",
    "    mean = train_df[i].mean()\n",
    "    st = train_df[i].std()\n",
    "    ust_sinir = (2.5*st)+mean\n",
    "    alt_sinir = mean - (2.5*st)\n",
    "    train_df.drop(train_df[(train_df[i] >=ust_sinir) | (train_df[i] <= alt_sinir)].index, inplace=True)\n",
    "    print(train_df[(train_df[i] >= ust_sinir) | (train_df[i] <=alt_sinir )])\n"
   ]
  },
  {
   "cell_type": "code",
   "execution_count": null,
   "id": "847ad971",
   "metadata": {},
   "outputs": [],
   "source": [
    "X = train_df.drop([\"diagnosis\"],axis=1)\n",
    "Y = train_df[\"diagnosis\"]"
   ]
  },
  {
   "cell_type": "code",
   "execution_count": null,
   "id": "900b3f9d",
   "metadata": {},
   "outputs": [],
   "source": [
    "from sklearn.preprocessing import StandardScaler\n",
    "sc = StandardScaler()\n",
    "X = sc.fit_transform(X)"
   ]
  },
  {
   "cell_type": "code",
   "execution_count": null,
   "id": "96cd2ad5",
   "metadata": {},
   "outputs": [],
   "source": [
    "from sklearn.model_selection import train_test_split\n",
    "\n",
    "x_train,x_test,y_train,y_test = train_test_split(X,Y,test_size=0.25,random_state=81)\n",
    "print(\"X_train\",len(x_train))\n",
    "print(\"X_test\",len(x_test))\n",
    "print(\"y_train\",len(y_train))\n",
    "print(\"y_test\",len(y_test))"
   ]
  },
  {
   "cell_type": "code",
   "execution_count": null,
   "id": "7e3d70b0",
   "metadata": {},
   "outputs": [],
   "source": [
    "from sklearn.linear_model import LogisticRegression\n",
    "\n",
    "logreg = LogisticRegression()\n",
    "logreg.fit(x_train, y_train)\n",
    "acc_log_train = round(logreg.score(x_train, y_train)*100,2) \n",
    "acc_log_test = round(logreg.score(x_test,y_test)*100,2)\n",
    "print(\"Training Accuracy: % {}\".format(acc_log_train))\n",
    "print(\"Testing Accuracy: % {}\".format(acc_log_test))"
   ]
  },
  {
   "cell_type": "code",
   "execution_count": null,
   "id": "94a645b6",
   "metadata": {},
   "outputs": [],
   "source": []
  }
 ],
 "metadata": {
  "kernelspec": {
   "display_name": "Python 3.8.10 64-bit",
   "language": "python",
   "name": "python3"
  },
  "language_info": {
   "codemirror_mode": {
    "name": "ipython",
    "version": 3
   },
   "file_extension": ".py",
   "mimetype": "text/x-python",
   "name": "python",
   "nbconvert_exporter": "python",
   "pygments_lexer": "ipython3",
   "version": "3.8.10"
  },
  "vscode": {
   "interpreter": {
    "hash": "916dbcbb3f70747c44a77c7bcd40155683ae19c65e1c03b4aa3499c5328201f1"
   }
  }
 },
 "nbformat": 4,
 "nbformat_minor": 5
}
